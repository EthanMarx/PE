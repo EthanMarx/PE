{
 "cells": [
  {
   "cell_type": "code",
   "execution_count": 1,
   "metadata": {},
   "outputs": [],
   "source": [
    "from lalsimulation import SimNoise\n",
    "from lal import CreateREAL8TimeSeries, CreateREAL8FrequencySeries\n",
    "import lal\n",
    "import numpy as np"
   ]
  },
  {
   "cell_type": "code",
   "execution_count": 2,
   "metadata": {},
   "outputs": [],
   "source": [
    "seed = 0\n",
    "randomness = lal.gsl_rng(\"ranlux\", seed)\n"
   ]
  },
  {
   "cell_type": "code",
   "execution_count": 6,
   "metadata": {},
   "outputs": [
    {
     "name": "stderr",
     "output_type": "stream",
     "text": [
      "XLAL Error - XLALSimNoise (/home/conda/feedstock_root/build_artifacts/lalsimulation-split_1669988833724/work/lib/LALSimNoise.c:162): Invalid argument\n"
     ]
    },
    {
     "ename": "RuntimeError",
     "evalue": "Invalid argument",
     "output_type": "error",
     "traceback": [
      "\u001b[0;31m---------------------------------------------------------------------------\u001b[0m",
      "\u001b[0;31mRuntimeError\u001b[0m                              Traceback (most recent call last)",
      "Cell \u001b[0;32mIn[6], line 21\u001b[0m\n\u001b[1;32m     18\u001b[0m lal_psd\u001b[39m.\u001b[39mdata\u001b[39m.\u001b[39mdata[n\u001b[39m-\u001b[39m\u001b[39m1\u001b[39m] \u001b[39m=\u001b[39m \u001b[39m0\u001b[39m\n\u001b[1;32m     19\u001b[0m lal_psd\u001b[39m.\u001b[39mdata\u001b[39m.\u001b[39mdata[\u001b[39m0\u001b[39m] \u001b[39m=\u001b[39m \u001b[39m0\u001b[39m\n\u001b[0;32m---> 21\u001b[0m SimNoise(segment, \u001b[39m0\u001b[39;49m, lal_psd, randomness)\n",
      "\u001b[0;31mRuntimeError\u001b[0m: Invalid argument"
     ]
    }
   ],
   "source": [
    "sample_rate = 2048\n",
    "delta_T = 1.0 / sample_rate\n",
    "df = 0.5 \n",
    "N = int(1 / delta_T / df) \n",
    "n = N // 2 + 1\n",
    "psd = np.random.normal(size=n) \n",
    "\n",
    "duration = 100\n",
    "length = int(duration / delta_T)\n",
    "\n",
    "noise = CreateREAL8TimeSeries(\"\", 10, 0, delta_T, lal.SecondUnit, duration)\n",
    "segment = CreateREAL8TimeSeries(\"\", 10, 0, delta_T, lal.SecondUnit, n)\n",
    "\n",
    "lal_psd = CreateREAL8FrequencySeries(\"\", 10, 0, df, lal.SecondUnit, n)\n",
    "\n",
    "\n",
    "lal_psd.data.data = psd\n",
    "lal_psd.data.data[n-1] = 0\n",
    "lal_psd.data.data[0] = 0\n",
    "\n",
    "SimNoise(segment, 0, lal_psd, randomness)"
   ]
  },
  {
   "cell_type": "code",
   "execution_count": 24,
   "metadata": {},
   "outputs": [
    {
     "data": {
      "text/plain": [
       "array([-0.51052605,  1.14393631, -0.65445452, ...,  0.22297193,\n",
       "        0.33014854, -0.26543291])"
      ]
     },
     "execution_count": 24,
     "metadata": {},
     "output_type": "execute_result"
    }
   ],
   "source": [
    "lal_psd.data.data"
   ]
  },
  {
   "cell_type": "code",
   "execution_count": null,
   "metadata": {},
   "outputs": [],
   "source": []
  }
 ],
 "metadata": {
  "kernelspec": {
   "display_name": "Python 3.9.16 ('bbhnet-datagen')",
   "language": "python",
   "name": "python3"
  },
  "language_info": {
   "codemirror_mode": {
    "name": "ipython",
    "version": 3
   },
   "file_extension": ".py",
   "mimetype": "text/x-python",
   "name": "python",
   "nbconvert_exporter": "python",
   "pygments_lexer": "ipython3",
   "version": "3.9.16"
  },
  "orig_nbformat": 4,
  "vscode": {
   "interpreter": {
    "hash": "7f78978bbdffe787c135343158323dd519c308b44e7681a9c1548d17422a3fcf"
   }
  }
 },
 "nbformat": 4,
 "nbformat_minor": 2
}
